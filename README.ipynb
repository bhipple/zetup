{
 "metadata": {
  "kernelspec": {
   "codemirror_mode": {
    "name": "ipython",
    "version": 2
   },
   "display_name": "IPython (Python 2)",
   "language": "python",
   "name": "python2"
  },
  "name": "",
  "signature": "sha256:c7b5726951cf2d9c13ba32c9ac8e4e13d957671814e4a30b3ca23b726ec5f980"
 },
 "nbformat": 3,
 "nbformat_minor": 0,
 "worksheets": [
  {
   "cells": [
    {
     "cell_type": "heading",
     "level": 1,
     "metadata": {},
     "source": [
      "zetup.py"
     ]
    },
    {
     "cell_type": "markdown",
     "metadata": {},
     "source": [
      "![](https://travis-ci.org/userzimmermann/zetup.py.svg?branch=master)"
     ]
    },
    {
     "cell_type": "markdown",
     "metadata": {},
     "source": [
      "__Zimmermann's [Python](http://python.org) package setup__"
     ]
    },
    {
     "cell_type": "code",
     "collapsed": false,
     "input": [
      "import zetup\n",
      "print(zetup.__version__)"
     ],
     "language": "python",
     "metadata": {},
     "outputs": [
      {
       "output_type": "stream",
       "stream": "stdout",
       "text": [
        "0.0.1\n"
       ]
      }
     ],
     "prompt_number": 1
    },
    {
     "cell_type": "markdown",
     "metadata": {},
     "source": [
      "<https://bitbucket.org/userzimmermann/zetup.py>\n",
      "\n",
      "<https://github.com/userzimmermann/zetup.py>"
     ]
    },
    {
     "cell_type": "heading",
     "level": 1,
     "metadata": {},
     "source": [
      "0. zetup's own setup :)"
     ]
    }
   ],
   "metadata": {}
  }
 ]
}