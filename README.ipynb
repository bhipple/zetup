{
 "metadata": {
  "kernelspec": {
   "codemirror_mode": {
    "name": "ipython",
    "version": 2
   },
   "display_name": "IPython (Python 2)",
   "language": "python",
   "name": "python2"
  },
  "name": "",
  "signature": "sha256:13e57ea8110a1dba196c86e06c4f1561554e0974a71b7bed6c9a6aaf4caae7eb"
 },
 "nbformat": 3,
 "nbformat_minor": 0,
 "worksheets": [
  {
   "cells": [
    {
     "cell_type": "heading",
     "level": 1,
     "metadata": {},
     "source": [
      "zetup.py"
     ]
    },
    {
     "cell_type": "markdown",
     "metadata": {},
     "source": [
      "![](https://travis-ci.org/userzimmermann/zetup.py.svg?branch=master)"
     ]
    },
    {
     "cell_type": "heading",
     "level": 2,
     "metadata": {},
     "source": [
      "Zimmermann's [Python](http://python.org) package setup"
     ]
    },
    {
     "cell_type": "code",
     "collapsed": false,
     "input": [
      "import zetup\n",
      "print(zetup.__version__)"
     ],
     "language": "python",
     "metadata": {},
     "outputs": [
      {
       "output_type": "stream",
       "stream": "stdout",
       "text": [
        "0.2.1\n"
       ]
      }
     ],
     "prompt_number": 1
    },
    {
     "cell_type": "markdown",
     "metadata": {},
     "source": [
      "<https://bitbucket.org/userzimmermann/zetup.py>\n",
      "\n",
      "<https://github.com/userzimmermann/zetup.py>"
     ]
    }
   ],
   "metadata": {}
  }
 ]
}